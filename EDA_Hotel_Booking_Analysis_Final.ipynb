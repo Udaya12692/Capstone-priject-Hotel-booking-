{
  "cells": [
    {
      "cell_type": "markdown",
      "metadata": {
        "id": "view-in-github",
        "colab_type": "text"
      },
      "source": [
        "<a href=\"https://colab.research.google.com/github/Udaya12692/Capstone-priject-Hotel-booking-/blob/main/EDA_Hotel_Booking_Analysis_Final.ipynb\" target=\"_parent\"><img src=\"https://colab.research.google.com/assets/colab-badge.svg\" alt=\"Open In Colab\"/></a>"
      ]
    },
    {
      "cell_type": "markdown",
      "metadata": {
        "id": "vncDsAP0Gaoa"
      },
      "source": [
        "# **Project Name**    - \n",
        "Hotel Booking Analysis\n"
      ]
    },
    {
      "cell_type": "markdown",
      "metadata": {
        "id": "beRrZCGUAJYm"
      },
      "source": [
        "##### **Project Type**    - EDA\n",
        "##### **Contribution**    - Individual\n",
        "##### **Team Member 1 -**Mr.Udaya Bhat\n",
        "##### **Team Member 2 -**Mr.Shekar\n",
        "##### **Team Member 3 -**Mr.Shri Rakesh\n",
        "##### **Team Member 4 -**Mis Arpita"
      ]
    },
    {
      "cell_type": "markdown",
      "metadata": {
        "id": "FJNUwmbgGyua"
      },
      "source": [
        "# **Project Summary -**"
      ]
    },
    {
      "cell_type": "markdown",
      "metadata": {
        "id": "F6v_1wHtG2nS"
      },
      "source": [
        "Hotel Bookings Analysis project consists with the real - world data record of hotel bookings of a city hotel and a resort hotel for the period 2015 - 2017 respectively. The project data record consists of information such as type of hotel booked, average daily rate, booking details, arrival date, length of the stay, the number of adults, children, and / or babies booked, customer country, meal preferences, type of the customer, parking space details, reservation status, channels used for booking, booking cancellation details, booking lead time details, among other details. Data analysis and data visualization will be performed using Python libraries.\n",
        "\n",
        "I started the Hotel Bookings Analysis project to analyse the data and explore the key factors that govern the hotel bookings. In this project, I have downloaded the given dataset of hotel bookings (CSV file) to use it as a pandas dataframe using pandas library. I have came to know more details about the datset by using df.info() method. I have checked the number of data types in the dataset using value_counts() method. If any column of the dataset has highest missing values, the respective coulmn should be removed using drop() method. I have performed data wrangling using value_counts() method and sort_values method to sort the data accordingly. Fianlly, the Vizualization is done in a structured way while following the \"UBM\" U - Univariate Analysis, B - Bivariate Analysis (Numerical - Categorical, Numerical - Numerical, Categorical - Categorical)"
      ]
    },
    {
      "cell_type": "markdown",
      "metadata": {
        "id": "w6K7xa23Elo4"
      },
      "source": [
        "# **GitHub Link -**"
      ]
    },
    {
      "cell_type": "markdown",
      "metadata": {
        "id": "h1o69JH3Eqqn"
      },
      "source": [
        "Provide your GitHub Link here."
      ]
    },
    {
      "cell_type": "markdown",
      "metadata": {
        "id": "yQaldy8SH6Dl"
      },
      "source": [
        "# **Problem Statement**\n"
      ]
    },
    {
      "cell_type": "markdown",
      "metadata": {
        "id": "DpeJGUA3kjGy"
      },
      "source": [
        "This data set contains booking information for a city hotel and a resort hotel and includes information such as when the booking was made, length of stay, the number of adults, children, and/or babies, and the number of available parking spaces, among other things. We need to find out the some insites which help to stake holders"
      ]
    },
    {
      "cell_type": "markdown",
      "metadata": {
        "id": "PH-0ReGfmX4f"
      },
      "source": [
        "#### **Define Your Business Objective?**"
      ]
    },
    {
      "cell_type": "markdown",
      "metadata": {
        "id": "PhDvGCAqmjP1"
      },
      "source": [
        "The main aim of this project is to explore the key factors driving the hotel bookings such as :\n",
        "\n",
        "1. To identify the best time to book a hotel \n",
        "2. To identify most common customer type\n",
        "3. To find the most preferred length of stay in each hotel\n",
        "4. To understand the peak season\n",
        "5. To know the meal preferences\n",
        "6. Identify which hotel has highest bookings cancellation \n",
        "7. find which country customers have highest bookings\n",
        "9. Study the relation between ADR and length of stay\n",
        "10. Most prepered Distrubution chanel for bookings\n"
      ]
    },
    {
      "cell_type": "markdown",
      "metadata": {
        "id": "mDgbUHAGgjLW"
      },
      "source": [
        "# **General Guidelines** : -  "
      ]
    },
    {
      "cell_type": "markdown",
      "metadata": {
        "id": "ZrxVaUj-hHfC"
      },
      "source": [
        "1.   Well-structured, formatted, and commented code is required. \n",
        "2.   Exception Handling, Production Grade Code & Deployment Ready Code will be a plus. Those students will be awarded some additional credits. \n",
        "     \n",
        "     The additional credits will have advantages over other students during Star Student selection.\n",
        "       \n",
        "             [ Note: - Deployment Ready Code is defined as, the whole .ipynb notebook should be executable in one go\n",
        "                       without a single error logged. ]\n",
        "\n",
        "3.   Each and every logic should have proper comments.\n",
        "4. You may add as many number of charts you want. Make Sure for each and every chart the following format should be answered.\n",
        "        \n",
        "\n",
        "```\n",
        "# Chart visualization code\n",
        "```\n",
        "            \n",
        "\n",
        "*   Why did you pick the specific chart?\n",
        "*   What is/are the insight(s) found from the chart?\n",
        "* Will the gained insights help creating a positive business impact? \n",
        "Are there any insights that lead to negative growth? Justify with specific reason.\n",
        "\n",
        "5. You have to create at least 20 logical & meaningful charts having important insights.\n",
        "\n",
        "\n",
        "[ Hints : - Do the Vizualization in  a structured way while following \"UBM\" Rule. \n",
        "\n",
        "U - Univariate Analysis,\n",
        "\n",
        "B - Bivariate Analysis (Numerical - Categorical, Numerical - Numerical, Categorical - Categorical)\n",
        "\n",
        "M - Multivariate Analysis\n",
        " ]\n",
        "\n",
        "\n",
        "\n"
      ]
    },
    {
      "cell_type": "markdown",
      "metadata": {
        "id": "O_i_v8NEhb9l"
      },
      "source": [
        "# ***Let's Begin !***"
      ]
    },
    {
      "cell_type": "markdown",
      "metadata": {
        "id": "HhfV-JJviCcP"
      },
      "source": [
        "## ***1. Know Your Data***"
      ]
    },
    {
      "cell_type": "markdown",
      "metadata": {
        "id": "Y3lxredqlCYt"
      },
      "source": [
        "### Import Libraries"
      ]
    },
    {
      "cell_type": "code",
      "execution_count": null,
      "metadata": {
        "id": "M8Vqi-pPk-HR"
      },
      "outputs": [],
      "source": [
        "# Import Libraries\n",
        "import numpy as np\n",
        "import pandas as pd\n",
        "import matplotlib\n",
        "import matplotlib.pyplot as plt\n",
        "%matplotlib inline\n",
        "import seaborn as sns"
      ]
    },
    {
      "cell_type": "markdown",
      "metadata": {
        "id": "3RnN4peoiCZX"
      },
      "source": [
        "### Dataset Loading"
      ]
    },
    {
      "cell_type": "code",
      "execution_count": null,
      "metadata": {
        "colab": {
          "base_uri": "https://localhost:8080/"
        },
        "id": "sAwm02sKx6yM",
        "outputId": "fee351ba-73b9-4803-b550-5af0a792e0c0"
      },
      "outputs": [
        {
          "output_type": "stream",
          "name": "stdout",
          "text": [
            "Drive already mounted at /content/drive; to attempt to forcibly remount, call drive.mount(\"/content/drive\", force_remount=True).\n"
          ]
        }
      ],
      "source": [
        "from google.colab import drive\n",
        "drive.mount('/content/drive')"
      ]
    },
    {
      "cell_type": "markdown",
      "metadata": {
        "id": "x71ZqKXriCWQ"
      },
      "source": [
        "### Dataset First View"
      ]
    },
    {
      "cell_type": "code",
      "execution_count": null,
      "metadata": {
        "id": "LWNFOSvLl09H"
      },
      "outputs": [],
      "source": [
        "# Dataset First Look\n",
        "file_path = '/content/drive/MyDrive/Hotel Bookings.csv'\n",
        "df=pd.read_csv(file_path)"
      ]
    },
    {
      "cell_type": "markdown",
      "metadata": {
        "id": "7hBIi_osiCS2"
      },
      "source": [
        "### Dataset Rows & Columns count"
      ]
    },
    {
      "cell_type": "code",
      "execution_count": null,
      "metadata": {
        "id": "Kllu7SJgmLij"
      },
      "outputs": [],
      "source": [
        "# Dataset Rows & Columns count\n",
        "df.head(15).T"
      ]
    },
    {
      "cell_type": "markdown",
      "metadata": {
        "id": "JlHwYmJAmNHm"
      },
      "source": [
        "### Dataset Information"
      ]
    },
    {
      "cell_type": "code",
      "execution_count": null,
      "metadata": {
        "id": "e9hRXRi6meOf",
        "colab": {
          "base_uri": "https://localhost:8080/"
        },
        "outputId": "89155e0b-a7d2-4634-f5ec-2f6429764fcf"
      },
      "outputs": [
        {
          "output_type": "stream",
          "name": "stdout",
          "text": [
            "<class 'pandas.core.frame.DataFrame'>\n",
            "RangeIndex: 119390 entries, 0 to 119389\n",
            "Data columns (total 32 columns):\n",
            " #   Column                          Non-Null Count   Dtype  \n",
            "---  ------                          --------------   -----  \n",
            " 0   hotel                           119390 non-null  object \n",
            " 1   is_canceled                     119390 non-null  int64  \n",
            " 2   lead_time                       119390 non-null  int64  \n",
            " 3   arrival_date_year               119390 non-null  int64  \n",
            " 4   arrival_date_month              119390 non-null  object \n",
            " 5   arrival_date_week_number        119390 non-null  int64  \n",
            " 6   arrival_date_day_of_month       119390 non-null  int64  \n",
            " 7   stays_in_weekend_nights         119390 non-null  int64  \n",
            " 8   stays_in_week_nights            119390 non-null  int64  \n",
            " 9   adults                          119390 non-null  int64  \n",
            " 10  children                        119386 non-null  float64\n",
            " 11  babies                          119390 non-null  int64  \n",
            " 12  meal                            119390 non-null  object \n",
            " 13  country                         118902 non-null  object \n",
            " 14  market_segment                  119390 non-null  object \n",
            " 15  distribution_channel            119390 non-null  object \n",
            " 16  is_repeated_guest               119390 non-null  int64  \n",
            " 17  previous_cancellations          119390 non-null  int64  \n",
            " 18  previous_bookings_not_canceled  119390 non-null  int64  \n",
            " 19  reserved_room_type              119390 non-null  object \n",
            " 20  assigned_room_type              119390 non-null  object \n",
            " 21  booking_changes                 119390 non-null  int64  \n",
            " 22  deposit_type                    119390 non-null  object \n",
            " 23  agent                           103050 non-null  float64\n",
            " 24  company                         6797 non-null    float64\n",
            " 25  days_in_waiting_list            119390 non-null  int64  \n",
            " 26  customer_type                   119390 non-null  object \n",
            " 27  adr                             119390 non-null  float64\n",
            " 28  required_car_parking_spaces     119390 non-null  int64  \n",
            " 29  total_of_special_requests       119390 non-null  int64  \n",
            " 30  reservation_status              119390 non-null  object \n",
            " 31  reservation_status_date         119390 non-null  object \n",
            "dtypes: float64(4), int64(16), object(12)\n",
            "memory usage: 29.1+ MB\n"
          ]
        }
      ],
      "source": [
        "# Dataset Info\n",
        "df.info()"
      ]
    },
    {
      "cell_type": "markdown",
      "metadata": {
        "id": "35m5QtbWiB9F"
      },
      "source": [
        "#### Duplicate Values"
      ]
    },
    {
      "cell_type": "code",
      "execution_count": null,
      "metadata": {
        "id": "1sLdpKYkmox0"
      },
      "outputs": [],
      "source": [
        "# Dataset Duplicate Value Count\n",
        "df[df.duplicated()].shape \n",
        "# Remove duplicate values\n",
        "df.drop_duplicates(inplace = True)\n"
      ]
    },
    {
      "cell_type": "markdown",
      "metadata": {
        "id": "PoPl-ycgm1ru"
      },
      "source": [
        "#### Missing Values/Null Values"
      ]
    },
    {
      "cell_type": "code",
      "execution_count": null,
      "metadata": {
        "id": "GgHWkxvamxVg"
      },
      "outputs": [],
      "source": [
        "# Missing Values/Null Values Count\n",
        "df.isna(). sum()"
      ]
    },
    {
      "cell_type": "code",
      "execution_count": null,
      "metadata": {
        "id": "LUa75Zy24t-T"
      },
      "outputs": [],
      "source": [
        "#df=df.fillna(\" \")# remove null values by filling null vaue column by space\n",
        "df.fillna(0,inplace=True)"
      ]
    },
    {
      "cell_type": "code",
      "execution_count": null,
      "metadata": {
        "id": "ivAIY4VkbjAl"
      },
      "outputs": [],
      "source": [
        "#There are some rows with total number of adults, children or babies equal to zero. So we will remove such rows.\n",
        "df[df['adults']+df['babies']+df['children'] == 0]\n",
        "df.drop(df[df['adults']+df['babies']+df['children'] == 0].index, inplace = True)"
      ]
    },
    {
      "cell_type": "code",
      "execution_count": null,
      "metadata": {
        "id": "3q5wnI3om9sJ"
      },
      "outputs": [],
      "source": [
        "# Visualizing the missing values\n",
        "\n"
      ]
    },
    {
      "cell_type": "markdown",
      "metadata": {
        "id": "H0kj-8xxnORC"
      },
      "source": [
        "### What did you know about your dataset?"
      ]
    },
    {
      "cell_type": "markdown",
      "metadata": {
        "id": "gfoNAAC-nUe_"
      },
      "source": [
        "Hotel Bookings Analysis has 32 different variables (Continuous & Categorical) in the columns and grouping them as:\n",
        "\n",
        "* Guest Demographics : country, adults, children, babies.\n",
        "* Arrival Information : arrival_date_year, arrival_date_month,   arrival_date_week_number, arrival_date_day_of_month.\n",
        "* Reservation Status : reservation_status, reservation_status_date, is_canceled, lead_time, days_in_waiting_list.\n",
        "* User Actions : is_repeated_guest, previous_cancellations,  previous_bookings_not_canceled.\n",
        "* Accommodation Details : stays_in_weekend_nights, stays_in_week_nights, reserved_room_type, assigned_room_type, meals, required_car_parking_spaces, total_of_special_requests.\n",
        "* Booking Information : hotel, market_segment, distribution_channel,   booking_changes, deposit_type, agent, company, customer_type.\n",
        "* Average Daily Rate : adr.\n",
        "\n",
        "Each variable in detail :\n",
        "\n",
        "* hotel : This variable describes the category of the hotels, they are City Hotel & Resort Hotel.\n",
        "* is_canceled : The column shows cancellation details, 0 indicates booking not cancelled & 1 indicates booking is cancelled.\n",
        "* lead_time : This column defines the time between reservation & actual arrival.\n",
        "* arrival_date_year : This variable shows the arrival year of the customer namely 2015, 2016 or 2017.\n",
        "* arrival_date_month : This variable shows the arrival month of the customer in between January to December.\n",
        "* arrival_date_week_number : This column shows the arrival week of the customer.\n",
        "* arrival_date_day_of_month : This variable indicates the arrival date of the customer in the respective month & year.\n",
        "* stays_in_weekend_nights : This variable indicates the number of weekend nights (Saturday or Sunday) the guest stayed or booked to stay at the respective hotel.\n",
        "stays_in_week_nights : This column shows number of week nights (Monday to Friday) the guest stayed or booked to stay at the respective hotel.\n",
        "* adults : This variable shows the number of adults present with the customer.\n",
        "* children : This column shows the number of children present with the customer.\n",
        "* babies : This variable shows the number of babies present with the customer.\n",
        "* meal : This column shows the type of meal booked by the customer. Namely  BB - Bread & Breakfast, only breakfast is booked, FB - Full Board, in which breakfast, lunch & dinner are included, HB - Half Board, in which breakfast & dinner are included, SC - Self Catering, no meals are included.\n",
        "* country : This column shows the origin country of customers.\n",
        "* market_segment : This column shows the designation of the customers, * namely - Aviation, Direct, Corporate, Complementary, Groups, Offline TA/TO, Online TO.\n",
        "* distribution_channel : Booking distribution channel like direct, corporate, TA/TO, GDS.\n",
        "* is_repeated_guest : This variable shows the value indicating if the booking name was from a repeated guest. 0 - is not repeated guest & 1-repeated guest.\n",
        "* previous_cancellations : This column shows the number of previous bookings that were cancelled by the customer prior to the current booking.\n",
        "* previous_bookings_not_canceled : This variable shows the number of previous bookings not cancelled by the customer prior to the current booking.\n",
        "* reserved_room_type : This variable indicates the room reserved by the customer.\n",
        "* assigned_room_type : This variable shows the assigned room to the customer.\n",
        "* booking_changes : This column shows the number of changes made to the booking.\n",
        "* deposit_type : This variable indicates if the customer made a deposit to guarantee the booking. 3 categories: No Deposit – no deposit was made; Non * Refund – a deposit was made in the value of the total stay cost; Refundable – a deposit was made with a value under the total cost of stay.\n",
        "* agent : This column shows the id of the booking agent.\n",
        "* company : This variable indicates the id of the company making a booking.\n",
        "* days_in_waiting_list : This column depicts the number of days the booking was in the waiting list before it was confirmed to the customer.\n",
        "* customer_type : This variable shows 4 types of customers, namely - Contract - when the booking has an allotment or other type of contract associated to it; Group – when the booking is associated to a group; Transient – when the booking is not part of a group or contract, and is not associated to other transient booking; Transient-party – when the booking is transient, but is associated to at least other transient booking\n",
        "* adr : This variable shows the Average Daily Rate as defined by dividing the sum of all lodging transactions by the total number of staying nights.\n",
        "required_car_parking_spaces : This column indicates the number of car parking spaces required by the customer.\n",
        "* total_of_special_requests : This variable shows the number of special requests made by the customer (e.g. twin bed, high floor).\n",
        "* reservation_status : This column shows the reservation status of the customer whether the customer has checked-in or cancelled or not shown.\n",
        "* reservation_status_date : This variable indicates date of making reservation status.\n",
        "\n",
        "\n"
      ]
    },
    {
      "cell_type": "markdown",
      "metadata": {
        "id": "nA9Y7ga8ng1Z"
      },
      "source": [
        "## ***2. Understanding Your Variables***"
      ]
    },
    {
      "cell_type": "code",
      "execution_count": null,
      "metadata": {
        "id": "j7xfkqrt5Ag5",
        "colab": {
          "base_uri": "https://localhost:8080/"
        },
        "outputId": "c5ae8cb7-8b10-4c56-e01f-a85b085c1da9"
      },
      "outputs": [
        {
          "output_type": "execute_result",
          "data": {
            "text/plain": [
              "Index(['hotel', 'is_canceled', 'lead_time', 'arrival_date_year',\n",
              "       'arrival_date_month', 'arrival_date_week_number',\n",
              "       'arrival_date_day_of_month', 'stays_in_weekend_nights',\n",
              "       'stays_in_week_nights', 'adults', 'children', 'babies', 'meal',\n",
              "       'country', 'market_segment', 'distribution_channel',\n",
              "       'is_repeated_guest', 'previous_cancellations',\n",
              "       'previous_bookings_not_canceled', 'reserved_room_type',\n",
              "       'assigned_room_type', 'booking_changes', 'deposit_type', 'agent',\n",
              "       'company', 'days_in_waiting_list', 'customer_type', 'adr',\n",
              "       'required_car_parking_spaces', 'total_of_special_requests',\n",
              "       'reservation_status', 'reservation_status_date'],\n",
              "      dtype='object')"
            ]
          },
          "metadata": {},
          "execution_count": 81
        }
      ],
      "source": [
        "# Dataset Columns\n",
        "df.columns"
      ]
    },
    {
      "cell_type": "code",
      "execution_count": null,
      "metadata": {
        "id": "DnOaZdaE5Q5t"
      },
      "outputs": [],
      "source": [
        "# Dataset Describe\n",
        "df.describe()"
      ]
    },
    {
      "cell_type": "markdown",
      "metadata": {
        "id": "PBTbrJXOngz2"
      },
      "source": [
        "### Variables Description "
      ]
    },
    {
      "cell_type": "markdown",
      "metadata": {
        "id": "aJV4KIxSnxay"
      },
      "source": [
        "Answer Here"
      ]
    },
    {
      "cell_type": "markdown",
      "metadata": {
        "id": "u3PMJOP6ngxN"
      },
      "source": [
        "### Check Unique Values for each variable."
      ]
    },
    {
      "cell_type": "code",
      "execution_count": null,
      "metadata": {
        "id": "zms12Yq5n-jE"
      },
      "outputs": [],
      "source": [
        "# Check Unique Values for each variable.\n",
        "# Check Unique Values for each variable.\n",
        "n = df.nunique()\n",
        "print('Number of unique values for each variable : \\n', n)"
      ]
    },
    {
      "cell_type": "markdown",
      "metadata": {
        "id": "dauF4eBmngu3"
      },
      "source": [
        "## 3. ***Data Wrangling***"
      ]
    },
    {
      "cell_type": "markdown",
      "metadata": {
        "id": "bKJF3rekwFvQ"
      },
      "source": [
        "### Data Wrangling Code"
      ]
    },
    {
      "cell_type": "code",
      "execution_count": null,
      "metadata": {
        "id": "wk-9a2fpoLcV"
      },
      "outputs": [],
      "source": [
        "#let us check which type of Hotel has more number of bookings and pecentage Bookings\n",
        "Type_hotel=df['hotel'].value_counts()\n",
        " # precentage of bookings\n",
        "(df.groupby('hotel').size() / df['hotel'].count()) * 100"
      ]
    },
    {
      "cell_type": "code",
      "execution_count": null,
      "metadata": {
        "id": "eBvClkItW8n_"
      },
      "outputs": [],
      "source": [
        "# let us check which type of meals prepered most\n",
        "Prepered_meal_type=df['meal'].value_counts().sort_values(ascending=False)\n",
        "Prepered_meal_type"
      ]
    },
    {
      "cell_type": "code",
      "execution_count": null,
      "metadata": {
        "id": "pGiLbX-ah5d3"
      },
      "outputs": [],
      "source": [
        "# let us check best time to book Hotel, For that first we have to find which month is busiest means most number of bookings found\n",
        "Booking_months = df['arrival_date_month'].value_counts().sort_values(ascending=False)\n",
        "Booking_months"
      ]
    },
    {
      "cell_type": "code",
      "execution_count": null,
      "metadata": {
        "id": "EReHTyy2908g"
      },
      "outputs": [],
      "source": [
        "#let us check from which country more number of visitors are coming\n",
        "country_wise_visitor=df['country'].value_counts().sort_values(ascending=False)\n",
        "country_wise_visitor[:10]"
      ]
    },
    {
      "cell_type": "code",
      "source": [
        "# let us check relation between lead time and the cancellation \n",
        "canceled_booking=pd.DataFrame(df[df[\"is_canceled\"]==1])\n",
        "canceled_booking\n",
        "not_canceled_df=pd.DataFrame(df[df[\"is_canceled\"]==0])"
      ],
      "metadata": {
        "id": "A3F0pY3i662i"
      },
      "execution_count": null,
      "outputs": []
    },
    {
      "cell_type": "code",
      "source": [
        "# lets us find out the total stay of the each customer from which we can find out average stay of different type of customer\n",
        "not_canceled_df[\"Total_stay\"]=not_canceled_df[\"stays_in_weekend_nights\"]+not_canceled_df[\"stays_in_week_nights\"]\n",
        "Avg_stay_df=not_canceled_df.groupby(\"customer_type\")[\"Total_stay\"].mean().round()\n",
        "Avg_stay_df"
      ],
      "metadata": {
        "id": "QY_uzPcTTUtR"
      },
      "execution_count": null,
      "outputs": []
    },
    {
      "cell_type": "code",
      "source": [
        "# lets us find out the distrubution chanel which makes most number of bookings\n",
        "Distrubution_chanel_df=not_canceled_df[\"distribution_channel\"].value_counts().reset_index().rename(columns={\"index\":\"distribution_channel\",\"distribution_channel\":\"Number_of_Bookings\"})\n",
        "Distrubution_chanel_df\n",
        "total_booking=Distrubution_chanel_df[\"Number_of_Bookings\"].sum()\n",
        "Distrubution_chanel_df[\"precentage\"]=(Distrubution_chanel_df[\"Number_of_Bookings\"]/total_booking)*100\n",
        "Distrubution_chanel_df"
      ],
      "metadata": {
        "id": "_pAuKuhI6dOx"
      },
      "execution_count": null,
      "outputs": []
    },
    {
      "cell_type": "markdown",
      "metadata": {
        "id": "MSa1f5Uengrz"
      },
      "source": [
        "### What all manipulations have you done and insights you found?\n",
        "\n",
        "---\n",
        "\n"
      ]
    },
    {
      "cell_type": "markdown",
      "metadata": {
        "id": "GF8Ens_Soomf"
      },
      "source": [
        "4. Data Vizualization, Storytelling & Experimenting with charts\n",
        "\n",
        "---\n",
        "\n",
        "Understand the relationships between variables"
      ]
    },
    {
      "cell_type": "markdown",
      "metadata": {
        "id": "0wOQAZs5pc--"
      },
      "source": [
        "#### Chart - 1"
      ]
    },
    {
      "cell_type": "code",
      "execution_count": null,
      "metadata": {
        "id": "7v_ESjsspbW7"
      },
      "outputs": [],
      "source": [
        "# Chart - 1 visualization code\n",
        "# Create the plot object\n",
        "# Comparision between City Hotel and Resort Hotel in terms of Number of Bookings\n",
        "Type_hotel.plot(kind='bar',color=\"Blue\")\n",
        "plt.xlabel(\"Hotel type\")\n",
        "plt.ylabel(\"Number of Booking\")\n"
      ]
    },
    {
      "cell_type": "code",
      "source": [
        "# Percentage of bookings in each hotel\n",
        "plt.rcParams['figure.figsize'] = 6,6\n",
        "labels = df['hotel'].value_counts().index.tolist()\n",
        "sizes = df['hotel'].value_counts().tolist()\n",
        "explode = (0, 0.08)\n",
        "colors = ['#66b3ff', '#ff9999']\n",
        "plt.pie(sizes, explode=explode, labels=labels, colors=colors, autopct='%1.1f%%',startangle=90, textprops={'fontsize': 14})"
      ],
      "metadata": {
        "id": "0zRqO-emVT-f"
      },
      "execution_count": null,
      "outputs": []
    },
    {
      "cell_type": "markdown",
      "source": [
        "1. Why did you pick the specific chart?\n",
        " > it is Univariate analysis, where we compare categorical values in one columns with variable in another column so we have choosed bar graph For  percentage distrubution we choosed pi chart\n",
        "\n",
        "\n"
      ],
      "metadata": {
        "id": "C7wRk8mrXV7A"
      }
    },
    {
      "cell_type": "markdown",
      "source": [
        "2. What is/are the insight(s) found from the chart?\n",
        "   **Bookings are more in city hotel compared to resort hotel**"
      ],
      "metadata": {
        "id": "m7NGveQNX2ce"
      }
    },
    {
      "cell_type": "markdown",
      "metadata": {
        "id": "448CDAPjqfQr"
      },
      "source": [
        "##### 3. Will the gained insights help creating a positive business impact? \n",
        "Are there any insights that lead to negative growth? Justify with specific reason."
      ]
    },
    {
      "cell_type": "markdown",
      "metadata": {
        "id": "3cspy4FjqxJW"
      },
      "source": [
        "**Anyone who starts new Hotel business can opt to city hotel over to resort hotel as they get more cutomers**"
      ]
    },
    {
      "cell_type": "markdown",
      "metadata": {
        "id": "KSlN3yHqYklG"
      },
      "source": [
        "#### Chart - 2"
      ]
    },
    {
      "cell_type": "code",
      "execution_count": null,
      "metadata": {
        "id": "R4YgtaqtYklH"
      },
      "outputs": [],
      "source": [
        "# Chart - 2 visualization code\n",
        "Prepered_meal_type.plot(kind='bar',color=\"Green\")\n",
        "plt.xlabel(\"Meal_type\")\n",
        "plt.ylabel(\"Number_meal_prepered\")"
      ]
    },
    {
      "cell_type": "markdown",
      "metadata": {
        "id": "t6dVpIINYklI"
      },
      "source": [
        "##### 1. Why did you pick the specific chart?"
      ]
    },
    {
      "cell_type": "markdown",
      "metadata": {
        "id": "5aaW0BYyYklI"
      },
      "source": [
        "> it is Univariate analysis, where we compare categorical values (Meal Type) in one columns with variable in another column so we have choosed bar graph"
      ]
    },
    {
      "cell_type": "markdown",
      "metadata": {
        "id": "ijmpgYnKYklI"
      },
      "source": [
        "##### 2. What is/are the insight(s) found from the chart?"
      ]
    },
    {
      "cell_type": "markdown",
      "metadata": {
        "id": "PSx9atu2YklI"
      },
      "source": [
        "Most customers prefer Bread & Breakfast (BB) meal."
      ]
    },
    {
      "cell_type": "markdown",
      "metadata": {
        "id": "-JiQyfWJYklI"
      },
      "source": [
        "##### 3. Will the gained insights help creating a positive business impact? \n",
        "Are there any insights that lead to negative growth? Justify with specific reason."
      ]
    },
    {
      "cell_type": "markdown",
      "metadata": {
        "id": "BcBbebzrYklV"
      },
      "source": [
        "As Most customers prefer Bread & Breakfast (BB) meal , Hotels can give some attractive offers on upon choosing this BB type meal which will hepl to attract more customers "
      ]
    },
    {
      "cell_type": "markdown",
      "metadata": {
        "id": "EM7whBJCYoAo"
      },
      "source": [
        "#### Chart - 3"
      ]
    },
    {
      "cell_type": "code",
      "execution_count": null,
      "metadata": {
        "id": "t6GMdE67YoAp",
        "colab": {
          "base_uri": "https://localhost:8080/",
          "height": 341
        },
        "outputId": "36b49240-85fb-4834-c563-e75683ec0e67"
      },
      "outputs": [
        {
          "output_type": "execute_result",
          "data": {
            "text/plain": [
              "Text(0, 0.5, 'Number of Booking')"
            ]
          },
          "metadata": {},
          "execution_count": 10
        },
        {
          "output_type": "display_data",
          "data": {
            "text/plain": [
              "<Figure size 432x288 with 1 Axes>"
            ],
            "image/png": "[encoded data removed]"
          },
          "metadata": {
            "needs_background": "light"
          }
        }
      ],
      "source": [
        "# Chart - 3 visualization code\n",
        "Booking_months.plot(kind='bar')\n",
        "plt.xlabel(\"Months\")\n",
        "plt.ylabel(\"Number of Booking\")"
      ]
    },
    {
      "cell_type": "markdown",
      "metadata": {
        "id": "fge-S5ZAYoAp"
      },
      "source": [
        "##### 1. Why did you pick the specific chart?"
      ]
    },
    {
      "cell_type": "markdown",
      "metadata": {
        "id": "5dBItgRVYoAp"
      },
      "source": [
        "it is Univariate analysis, where we compare categorical values (Months) in one columns with variable in another column so we have choosed bar graph"
      ]
    },
    {
      "cell_type": "code",
      "source": [],
      "metadata": {
        "id": "jaw-naY-ekXS"
      },
      "execution_count": null,
      "outputs": []
    },
    {
      "cell_type": "markdown",
      "source": [],
      "metadata": {
        "id": "l_epPyF03SnT"
      }
    },
    {
      "cell_type": "markdown",
      "metadata": {
        "id": "85gYPyotYoAp"
      },
      "source": [
        "##### 2. What is/are the insight(s) found from the chart?"
      ]
    },
    {
      "cell_type": "markdown",
      "metadata": {
        "id": "4jstXR6OYoAp"
      },
      "source": [
        "**August is the busiest month followed by july interms of number of visitors in this case hotel owner  can make his team ready to give optimum service to customer and can also encash this high demand of hotel rooms to make more profit.\n",
        "Hotel owners can give exlusive offers at low demand time to atrract more number of customers to ensure his business to run steadily**\n"
      ]
    },
    {
      "cell_type": "markdown",
      "metadata": {
        "id": "4Of9eVA-YrdM"
      },
      "source": [
        "#### Chart - 4"
      ]
    },
    {
      "cell_type": "code",
      "execution_count": null,
      "metadata": {
        "id": "irlUoxc8YrdO"
      },
      "outputs": [],
      "source": [
        "# Chart - 4 visualization code\n",
        "country_wise_visitor[:10].plot(kind=\"bar\")\n",
        "plt.xlabel(\"No of Bookings\")\n",
        "plt.ylabel(\"contry\")\n"
      ]
    },
    {
      "cell_type": "markdown",
      "metadata": {
        "id": "F6T5p64dYrdO"
      },
      "source": [
        "##### 2. What is/are the insight(s) found from the chart?"
      ]
    },
    {
      "cell_type": "markdown",
      "metadata": {
        "id": "Xx8WAJvtYrdO"
      },
      "source": [
        "Most visitors are coming from conutry **Portugal**"
      ]
    },
    {
      "cell_type": "markdown",
      "metadata": {
        "id": "y-Ehk30pYrdP"
      },
      "source": [
        "##### 3. Will the gained insights help creating a positive business impact? \n",
        "Are there any insights that lead to negative growth? Justify with specific reason."
      ]
    },
    {
      "cell_type": "markdown",
      "metadata": {
        "id": "jLNxxz7MYrdP"
      },
      "source": [
        "Hotel managment has to ensure all facilities are available as per requirments of the countries from where more number of customers visits if failed to do so may leads to customer dissatisfaction"
      ]
    },
    {
      "cell_type": "markdown",
      "metadata": {
        "id": "bamQiAODYuh1"
      },
      "source": [
        "#### Chart - 5"
      ]
    },
    {
      "cell_type": "code",
      "execution_count": null,
      "metadata": {
        "id": "TIJwrbroYuh3"
      },
      "outputs": [],
      "source": [
        "# Chart - 5 visualization code\n",
        "# Find out relation between cancelation and days in waiting list\n",
        "canceled = df[df['is_canceled'] == 1]\n",
        "days_in_waiting_list_canceled=canceled[~canceled['days_in_waiting_list'].isna()]['days_in_waiting_list']\n",
        "plt.hist(days_in_waiting_list_canceled.values, color='green')\n",
        "plt.xlabel('days_in_waiting_list')\n",
        "plt.ylabel('No of Cancellations')"
      ]
    },
    {
      "cell_type": "code",
      "source": [
        "not_canceled = df[df['is_canceled'] == 0]\n",
        "Waiting_list_not_canceled=not_canceled[~not_canceled['days_in_waiting_list'].isna()]['days_in_waiting_list']\n",
        "plt.hist(Waiting_list_not_canceled.values, color='green')\n",
        "plt.xlabel('days_in_waiting_list')\n",
        "plt.ylabel('Number of Conformation')"
      ],
      "metadata": {
        "id": "lxX3Y90yZN88"
      },
      "execution_count": null,
      "outputs": []
    },
    {
      "cell_type": "markdown",
      "metadata": {
        "id": "QHF8YVU7Yuh3"
      },
      "source": [
        "##### 1. Why did you pick the specific chart?"
      ]
    },
    {
      "cell_type": "markdown",
      "metadata": {
        "id": "dcxuIMRPYuh3"
      },
      "source": [
        "Histogram  is selected to check frequency of cancellation/confirmation against waiting time"
      ]
    },
    {
      "cell_type": "markdown",
      "metadata": {
        "id": "GwzvFGzlYuh3"
      },
      "source": [
        "##### 2. What is/are the insight(s) found from the chart?\n",
        "**After analysing both chart, its understood that both cancelation and confirmation frequency lies between waiting time range 0-150 days\n",
        "so we can conclude that cancellation has no relation with waiting time**"
      ]
    },
    {
      "cell_type": "markdown",
      "metadata": {
        "id": "uyqkiB8YYuh3"
      },
      "source": [
        "Answer Here"
      ]
    },
    {
      "cell_type": "markdown",
      "metadata": {
        "id": "qYpmQ266Yuh3"
      },
      "source": [
        "##### 3. Will the gained insights help creating a positive business impact? \n",
        "Are there any insights that lead to negative growth? Justify with specific reason."
      ]
    },
    {
      "cell_type": "markdown",
      "metadata": {
        "id": "_WtzZ_hCYuh4"
      },
      "source": [
        "Answer Here"
      ]
    },
    {
      "cell_type": "markdown",
      "metadata": {
        "id": "OH-pJp9IphqM"
      },
      "source": [
        "#### Chart - 6"
      ]
    },
    {
      "cell_type": "code",
      "execution_count": null,
      "metadata": {
        "id": "kuRf4wtuphqN"
      },
      "outputs": [],
      "source": [
        "# Chart - 6 visualization code\n",
        "# understand average stay of different type of customer\n",
        "Avg_stay_df.plot(kind='bar')\n",
        "plt.xlabel(\"Customer Type\")\n",
        "plt.ylabel(\"Avg_stay_in_day\")"
      ]
    },
    {
      "cell_type": "markdown",
      "metadata": {
        "id": "bbFf2-_FphqN"
      },
      "source": [
        "##### 1. Why did you pick the specific chart?"
      ]
    },
    {
      "cell_type": "markdown",
      "metadata": {
        "id": "loh7H2nzphqN"
      },
      "source": [
        "it is Univariate analysis, where we compare categorical values (Customer Tpe) in one columns with variable in another column so we have choosed bar graph"
      ]
    },
    {
      "cell_type": "markdown",
      "source": [],
      "metadata": {
        "id": "oC-EuZJyr9pQ"
      }
    },
    {
      "cell_type": "markdown",
      "metadata": {
        "id": "_ouA3fa0phqN"
      },
      "source": [
        "##### 2. What is/are the insight(s) found from the chart?"
      ]
    },
    {
      "cell_type": "markdown",
      "metadata": {
        "id": "VECbqPI7phqN"
      },
      "source": [
        "Here we found that Avg Stay time for All three type of customer is three days and only contract type customer have more stay i.e 5 days in Hotel"
      ]
    },
    {
      "cell_type": "markdown",
      "metadata": {
        "id": "Seke61FWphqN"
      },
      "source": [
        "##### 3. Will the gained insights help creating a positive business impact? \n",
        "Are there any insights that lead to negative growth? Justify with specific reason."
      ]
    },
    {
      "cell_type": "markdown",
      "metadata": {
        "id": "DW4_bGpfphqN"
      },
      "source": [
        "We understood that mean stay time for maximum customer is 3 days , Hotels can offer atractive offers in off days for longer stay which may helps to increase number of customer as well as maximum ocupancy of rooms even in off days"
      ]
    },
    {
      "cell_type": "code",
      "source": [],
      "metadata": {
        "id": "xbtxkEYDs3dn"
      },
      "execution_count": null,
      "outputs": []
    },
    {
      "cell_type": "markdown",
      "metadata": {
        "id": "PIIx-8_IphqN"
      },
      "source": [
        "#### Chart - 7"
      ]
    },
    {
      "cell_type": "code",
      "execution_count": null,
      "metadata": {
        "id": "lqAIGUfyphqO"
      },
      "outputs": [],
      "source": [
        "# Chart - 7 visualization code\n",
        "# To identify which room type is in most demand and which room type generate the highest adr.\n",
        "fig, axes = plt.subplots(1, 2, figsize = (20, 9))\n",
        "room = df.groupby('assigned_room_type')\n",
        "df['Num_of_bookings'] = room.size()\n",
        "sns.countplot(ax = axes[0], x = df['assigned_room_type'])\n",
        "sns.boxplot(ax = axes[1], x = df['assigned_room_type'], y = df['adr'])\n",
        "plt.show()"
      ]
    },
    {
      "cell_type": "markdown",
      "source": [],
      "metadata": {
        "id": "CMZuZjcAvuSv"
      }
    },
    {
      "cell_type": "markdown",
      "metadata": {
        "id": "t27r6nlMphqO"
      },
      "source": [
        "##### 1. Why did you pick the specific chart?"
      ]
    },
    {
      "cell_type": "markdown",
      "metadata": {
        "id": "iv6ro40sphqO"
      },
      "source": [
        "As we are performing Multivariate Analysis to identify which room type is in most demand and which room type generate the highest adr, we have choosed bar graph and boxplot to understand better"
      ]
    },
    {
      "cell_type": "markdown",
      "metadata": {
        "id": "r2jJGEOYphqO"
      },
      "source": [
        "##### 2. What is/are the insight(s) found from the chart?"
      ]
    },
    {
      "cell_type": "markdown",
      "metadata": {
        "id": "Po6ZPi4hphqO"
      },
      "source": [
        "From the above graphs, we ca identify that roomtype A is the most demanded rooms by the customer while booking, whereas room types H,G,C are generating more adr respectively"
      ]
    },
    {
      "cell_type": "markdown",
      "metadata": {
        "id": "b0JNsNcRphqO"
      },
      "source": [
        "##### 3. Will the gained insights help creating a positive business impact? \n",
        "Hotel management sholud try to increase room types A, to ensure no customer is missed because of unavialability of specific type of rooms. as room type  H generating moe revenue can give some addon facility to for H type room in order atracts more customer for this specific room type"
      ]
    },
    {
      "cell_type": "markdown",
      "metadata": {
        "id": "xvSq8iUTphqO"
      },
      "source": [
        "Answer Here"
      ]
    },
    {
      "cell_type": "markdown",
      "metadata": {
        "id": "BZR9WyysphqO"
      },
      "source": [
        "#### Chart - 8"
      ]
    },
    {
      "cell_type": "code",
      "execution_count": null,
      "metadata": {
        "id": "TdPTWpAVphqO",
        "colab": {
          "base_uri": "https://localhost:8080/",
          "height": 709
        },
        "outputId": "c40f8ffd-e043-4021-a191-f9ace6727431"
      },
      "outputs": [
        {
          "output_type": "execute_result",
          "data": {
            "text/plain": [
              "([<matplotlib.patches.Wedge at 0x7fd299391fa0>,\n",
              "  <matplotlib.patches.Wedge at 0x7fd29939f6a0>,\n",
              "  <matplotlib.patches.Wedge at 0x7fd299391df0>,\n",
              "  <matplotlib.patches.Wedge at 0x7fd2993a9370>,\n",
              "  <matplotlib.patches.Wedge at 0x7fd2993a9970>],\n",
              " [Text(-0.7329384060477792, -0.820244654319759, 'TA/TO'),\n",
              "  Text(0.8968441958600989, 0.6369226706218367, 'Direct'),\n",
              "  Text(0.4113850835779963, 1.7523590707984265, 'Corporate'),\n",
              "  Text(0.009245076943008215, 1.3999694741501751, 'GDS'),\n",
              "  Text(7.94146927752777e-05, 1.899999998340344, 'Undefined')],\n",
              " [Text(-0.3997845851169704, -0.4474061750835049, '76.8%'),\n",
              "  Text(0.4891877431964175, 0.3474123657937291, '16.1%'),\n",
              "  Text(0.29711144925077504, 1.265592662243308, '6.9%'),\n",
              "  Text(0.005943263749076708, 0.8999803762393983, '0.2%'),\n",
              "  Text(5.851608941336252e-05, 1.3999999987770955, '0.0%')])"
            ]
          },
          "metadata": {},
          "execution_count": 65
        },
        {
          "output_type": "display_data",
          "data": {
            "text/plain": [
              "<Figure size 432x432 with 1 Axes>"
            ],
            "image/png": "[encoded data removed]"
          },
          "metadata": {}
        }
      ],
      "source": [
        "# Chart - 8 visualization code\n",
        "# Percentage of bookings in each hotel\n",
        "plt.rcParams['figure.figsize'] = 6,6\n",
        "labels = Distrubution_chanel_df['distribution_channel'].value_counts().index.tolist()\n",
        "sizes = Distrubution_chanel_df['precentage'].tolist()\n",
        "explode = (0, 0,0.7,0.3,0.8)\n",
        "colors = ['#66b3ff', '#ff9999']\n",
        "plt.pie(sizes, explode=explode,labels=labels, colors=colors, autopct='%1.1f%%',startangle=90, textprops={'fontsize': 14})"
      ]
    },
    {
      "cell_type": "markdown",
      "metadata": {
        "id": "jj7wYXLtphqO"
      },
      "source": [
        "##### 1. Why did you pick the specific chart?"
      ]
    },
    {
      "cell_type": "markdown",
      "metadata": {
        "id": "Ob8u6rCTphqO"
      },
      "source": [
        "Answer Here."
      ]
    },
    {
      "cell_type": "markdown",
      "metadata": {
        "id": "eZrbJ2SmphqO"
      },
      "source": [
        "##### 2. What is/are the insight(s) found from the chart?"
      ]
    },
    {
      "cell_type": "markdown",
      "metadata": {
        "id": "mZtgC_hjphqO"
      },
      "source": [
        "From above graph we understood that more number of booking are made by Travel agencies which is almost 75% where direct booking is 16%"
      ]
    },
    {
      "cell_type": "markdown",
      "metadata": {
        "id": "rFu4xreNphqO"
      },
      "source": [
        "##### 3. Will the gained insights help creating a positive business impact? \n"
      ]
    },
    {
      "cell_type": "markdown",
      "metadata": {
        "id": "ey_0qi68phqO"
      },
      "source": [
        "The hotel management can offer discounts, complimentary services and offers on direct bookings as the hotel doesn’t pay commissions to third parties and maintains a direct relationship with the customer when a customer books the hotel directly"
      ]
    },
    {
      "cell_type": "markdown",
      "metadata": {
        "id": "NC_X3p0fY2L0"
      },
      "source": [
        "###Chart - 9 - Correlation Heatmap\n",
        "\n",
        "> Indented block\n",
        "\n",
        "\n",
        "\n",
        "1.   List item\n",
        "2.   List item\n",
        "\n"
      ]
    },
    {
      "cell_type": "code",
      "execution_count": null,
      "metadata": {
        "id": "xyC9zolEZNRQ"
      },
      "outputs": [],
      "source": [
        "# Correlation Heatmap visualization code\n",
        "dfC=df[['hotel','lead_time', 'meal',\n",
        "       'country', 'market_segment', 'distribution_channel',\n",
        "       'is_repeated_guest', 'previous_cancellations',\n",
        "       'previous_bookings_not_canceled', 'reserved_room_type',\n",
        "       'assigned_room_type', 'booking_changes', 'deposit_type', 'agent',\n",
        "       'company', 'days_in_waiting_list', 'customer_type', 'adr',\n",
        "       'required_car_parking_spaces',]]"
      ]
    },
    {
      "cell_type": "code",
      "source": [
        "corrmat = dfC.corr()\n",
        "f, ax = plt.subplots(figsize=(12, 7))\n",
        "sns.heatmap(corrmat,annot = True,fmt='.2f', annot_kws={'size': 8},  vmax=.8, square=True);"
      ],
      "metadata": {
        "colab": {
          "base_uri": "https://localhost:8080/",
          "height": 586
        },
        "id": "aG9QGVpAKSxj",
        "outputId": "e209c4da-7058-42a4-ac21-3d286cd2aa73"
      },
      "execution_count": null,
      "outputs": [
        {
          "output_type": "display_data",
          "data": {
            "text/plain": [
              "<Figure size 864x504 with 2 Axes>"
            ],
            "image/png": "[encoded data removed]"
          },
          "metadata": {
            "needs_background": "light"
          }
        }
      ]
    },
    {
      "cell_type": "markdown",
      "metadata": {
        "id": "UV0SzAkaZNRQ"
      },
      "source": [
        "##### 1. Why did you pick the specific chart?"
      ]
    },
    {
      "cell_type": "markdown",
      "metadata": {
        "id": "DVPuT8LYZNRQ"
      },
      "source": [
        "Answer Here."
      ]
    },
    {
      "cell_type": "markdown",
      "metadata": {
        "id": "YPEH6qLeZNRQ"
      },
      "source": [
        "##### 2. What is/are the insight(s) found from the chart?"
      ]
    },
    {
      "cell_type": "markdown",
      "metadata": {
        "id": "bfSqtnDqZNRR"
      },
      "source": [
        "Answer Here"
      ]
    },
    {
      "cell_type": "markdown",
      "metadata": {
        "id": "q29F0dvdveiT"
      },
      "source": [
        "**Chart - 10 - Pair Plot**\n",
        "\n",
        "\n",
        "\n"
      ]
    },
    {
      "cell_type": "code",
      "execution_count": null,
      "metadata": {
        "id": "o58-TEIhveiU"
      },
      "outputs": [],
      "source": [
        "# Pair Plot visualization code\n",
        "# Pair Plot visualization code\n",
        "# Length of stay vs adr\n",
        "plt.figure(figsize = (18,9))\n",
        "sns.scatterplot(y = 'adr', x = 'Total_stay', data = df)\n",
        "plt.show()"
      ]
    },
    {
      "cell_type": "code",
      "source": [
        "# We will drop the value which is exceeding ADR 5000 & plot the scatterplot to remove outliers\n",
        "df.drop(df[df['adr'] > 5000].index, inplace = True)\n",
        "plt.figure(figsize = (15,7))\n",
        "sns.scatterplot(y = 'adr', x = 'Total_stay', data = df)\n",
        "plt.show()"
      ],
      "metadata": {
        "id": "KRxIm4K-dWo2"
      },
      "execution_count": null,
      "outputs": []
    },
    {
      "cell_type": "markdown",
      "source": [
        "##### 1. Why did you pick the specific chart?"
      ],
      "metadata": {
        "id": "_2THz2qmmycR"
      }
    },
    {
      "cell_type": "markdown",
      "source": [
        "We have two co_related variable i.e adr and Total stay to study the reation choosed scater plot"
      ],
      "metadata": {
        "id": "aQ-WjUw8mk5J"
      }
    },
    {
      "cell_type": "markdown",
      "source": [
        "##### 2. What is/are the insight(s) found from the chart?"
      ],
      "metadata": {
        "id": "vSmjC86SnSgI"
      }
    },
    {
      "cell_type": "markdown",
      "source": [
        "From the scatter plot, it is clear that length of total_stay increases, adr decreases. Customers who stay less pays more .Hotels can offer the better deal for customers one who stay for long period"
      ],
      "metadata": {
        "id": "rjVYGwD6nZD_"
      }
    },
    {
      "cell_type": "markdown",
      "metadata": {
        "id": "JcMwzZxoAimU"
      },
      "source": [
        "## **5. Solution to Business Objective**"
      ]
    },
    {
      "cell_type": "markdown",
      "metadata": {
        "id": "8G2x9gOozGDZ"
      },
      "source": [
        "#### What do you suggest the client to achieve Business Objective ? \n",
        "Explain Briefly."
      ]
    },
    {
      "cell_type": "markdown",
      "metadata": {
        "id": "pASKb0qOza21"
      },
      "source": [
        "1. Anyone is thinking to start new Hotel business can opt to city hotel over to resort hotel as they get more cutomers\n",
        "2. As Most customers prefer Bread & Breakfast (BB) meal , Hotels can give some attractive deal on upon choosing this BB type meal which will hepl to attract more customers\n",
        "3. August is the busiest month followed by july interms of number of visitors in this case hotel owner can make his team ready to give optimum service to customer and can also encash this high demand of hotel rooms to make more profit Hotel owners can give exlusive offers at low demand time to atract more number of customers to ensure his business to run steadily\n",
        "4. Most visiotors are from Portugal and other European contries so its better to hotel managment to enusre that facilities according to their requirment also can do good marketing at that contries to enhance business\n",
        "5. roomtype A is the most demanded rooms by the customer while booking, whereas room types H,G,C are generating more adr respectively\n",
        "Hotel management sholud try to increase room types A, to ensure no customer is missed because of unavialability of specific type of rooms. as room type  H generating more revenue can give some addon facility to for H type room in order atracts more customer for this specific room type\n",
        "6. We saw more number of bookings are done by using distrubution chanel TA/TO where Hotel has to share its revenue in terms of comisssion The hotel management can offer discounts, complimentary services and offers on direct bookings as the hotel doesn’t pay commissions to third parties and maintains a direct relationship with the customer when a customer books the hotel directly\n",
        "7. Most preferred stay in hotels is 3 days, hotel management should introduce loyalty service, offers, tourism package in order to increase the stay of customers and to generate more revenue"
      ]
    },
    {
      "cell_type": "markdown",
      "metadata": {
        "id": "gCX9965dhzqZ"
      },
      "source": [
        "# **Conclusion**"
      ]
    },
    {
      "cell_type": "markdown",
      "metadata": {
        "id": "Fjb1IsQkh3yE"
      },
      "source": [
        "* August and July are the busiest month in terms of hotel busniness so we can anticipate high rates of hotel rooms, where Junary is slack season we can expect lower rates for hotel rooms\n",
        "*  Most of the bookings are for City Hotel compared to Resort Hotel .\n",
        "* Most customers prefer Bread & Breakfast (BB) meal\n",
        "* Most preferred distribution channel by customers is Travel Agent / Tour Oprator (TA/TO) to make hotel booking.\n",
        "* Most of the customers are from Portugal.\n",
        "* Most preferred stay in hotels is 3 days\n",
        "* cancelation and confirmation frequency lies between waiting time range 0-150 days\n",
        "so we can conclude that cancellation has no relation with waiting time\n"
      ]
    },
    {
      "cell_type": "markdown",
      "metadata": {
        "id": "gIfDvo9L0UH2"
      },
      "source": [
        "### ***Hurrah! You have successfully completed your EDA Capstone Project !!!***"
      ]
    }
  ],
  "metadata": {
    "colab": {
      "provenance": [],
      "include_colab_link": true
    },
    "gpuClass": "standard",
    "kernelspec": {
      "display_name": "Python 3",
      "name": "python3"
    },
    "language_info": {
      "name": "python"
    }
  },
  "nbformat": 4,
  "nbformat_minor": 0
}